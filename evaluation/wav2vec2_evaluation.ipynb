{
 "cells": [
  {
   "cell_type": "code",
   "execution_count": 1,
   "metadata": {},
   "outputs": [],
   "source": [
    "import torch\n",
    "import numpy as np\n",
    "from datasets import load_dataset, Audio\n",
    "from transformers import Wav2Vec2ForCTC, Wav2Vec2Processor\n",
    "import evaluate\n",
    "import pandas as pd\n",
    "import matplotlib.pyplot as plt\n",
    "import os\n",
    "import time\n",
    "from tqdm import tqdm"
   ]
  },
  {
   "cell_type": "code",
   "execution_count": 2,
   "metadata": {},
   "outputs": [],
   "source": [
    "# Load WER and CER metrics\n",
    "wer_metric = evaluate.load(\"wer\")\n",
    "cer_metric = evaluate.load(\"cer\")"
   ]
  },
  {
   "cell_type": "code",
   "execution_count": 4,
   "metadata": {},
   "outputs": [],
   "source": [
    "def evaluate_model(model, processor, dataset, device=\"cuda\"):\n",
    "    \"\"\"Evaluate a model on a dataset and return metrics\"\"\"\n",
    "    model.to(device)\n",
    "    model.eval()\n",
    "    \n",
    "    all_references = []\n",
    "    all_predictions = []\n",
    "    all_audio_names = []\n",
    "    inference_times = []\n",
    "    \n",
    "    for sample in tqdm(dataset, desc=\"Evaluating\"):\n",
    "        # Get audio input\n",
    "        audio = sample[\"path\"]\n",
    "        reference = sample[\"text\"]\n",
    "        \n",
    "        # Get audio file name for analysis\n",
    "        if isinstance(audio, dict) and \"path\" in audio:\n",
    "            audio_name = os.path.basename(audio[\"path\"])\n",
    "        else:\n",
    "            audio_name = \"unknown\"\n",
    "        \n",
    "        # Process audio\n",
    "        input_features = processor(\n",
    "            audio[\"array\"], \n",
    "            sampling_rate=audio[\"sampling_rate\"],\n",
    "            return_tensors=\"pt\"\n",
    "        ).input_values.to(device)\n",
    "        \n",
    "        # Measure inference time\n",
    "        start_time = time.time()\n",
    "        with torch.no_grad():\n",
    "            logits = model(input_features).logits\n",
    "        end_time = time.time()\n",
    "        inference_time = end_time - start_time\n",
    "        \n",
    "        # Decode prediction\n",
    "        predicted_ids = torch.argmax(logits, dim=-1)\n",
    "        predicted_transcript = processor.batch_decode(predicted_ids)[0]\n",
    "        \n",
    "        # Store results\n",
    "        all_references.append(reference)\n",
    "        all_predictions.append(predicted_transcript)\n",
    "        all_audio_names.append(audio_name)\n",
    "        inference_times.append(inference_time)\n",
    "    \n",
    "    # Calculate metrics\n",
    "    wer = 100 * wer_metric.compute(predictions=all_predictions, references=all_references)\n",
    "    cer = 100 * cer_metric.compute(predictions=all_predictions, references=all_references)\n",
    "    \n",
    "    avg_inference_time = sum(inference_times) / len(inference_times)\n",
    "    \n",
    "    # Create detailed results for error analysis\n",
    "    detailed_results = []\n",
    "    for ref, pred, name, inf_time in zip(all_references, all_predictions, all_audio_names, inference_times):\n",
    "        sample_wer = 100 * wer_metric.compute(predictions=[pred], references=[ref])\n",
    "        detailed_results.append({\n",
    "            \"audio_file\": name,\n",
    "            \"reference\": ref,\n",
    "            \"prediction\": pred,\n",
    "            \"wer\": sample_wer,\n",
    "            \"inference_time\": inf_time\n",
    "        })\n",
    "    \n",
    "    results = {\n",
    "        \"wer\": wer,\n",
    "        \"cer\": cer,\n",
    "        \"avg_inference_time\": avg_inference_time,\n",
    "        \"detailed_results\": detailed_results\n",
    "    }\n",
    "    \n",
    "    return results"
   ]
  },
  {
   "cell_type": "code",
   "execution_count": 5,
   "metadata": {},
   "outputs": [],
   "source": [
    "# Load the test dataset\n",
    "data_dir = os.path.abspath(os.path.join(\"..\", \"data\", \"processed\"))\n",
    "test_dataset = load_dataset(\"csv\", data_files=os.path.join(data_dir, \"test_data.csv\"))[\"train\"]"
   ]
  },
  {
   "cell_type": "code",
   "execution_count": 6,
   "metadata": {},
   "outputs": [
    {
     "name": "stdout",
     "output_type": "stream",
     "text": [
      "Dataset({\n",
      "    features: ['text', 'path'],\n",
      "    num_rows: 10\n",
      "})\n"
     ]
    }
   ],
   "source": [
    "print(test_dataset)"
   ]
  },
  {
   "cell_type": "code",
   "execution_count": 7,
   "metadata": {},
   "outputs": [],
   "source": [
    " # Function to correct the file paths\n",
    "def correct_path(example):\n",
    "    current_path = example[\"path\"].replace(\"\\\\\", \"/\")\n",
    "    if \"../processed\" in current_path:\n",
    "        new_path = current_path.replace(\"../processed\", \"../data/processed\")\n",
    "    else:\n",
    "        new_path = current_path\n",
    "    example[\"path\"] = new_path\n",
    "    return example"
   ]
  },
  {
   "cell_type": "code",
   "execution_count": 8,
   "metadata": {},
   "outputs": [],
   "source": [
    " # Apply the path correction\n",
    "test_dataset = test_dataset.map(correct_path)\n",
    "\n",
    "# Cast to Audio\n",
    "test_dataset = test_dataset.cast_column(\"path\", Audio(sampling_rate=16000))"
   ]
  },
  {
   "cell_type": "code",
   "execution_count": 9,
   "metadata": {},
   "outputs": [
    {
     "data": {
      "application/vnd.jupyter.widget-view+json": {
       "model_id": "212e911d730f4d03baa1c4c64f882cee",
       "version_major": 2,
       "version_minor": 0
      },
      "text/plain": [
       "preprocessor_config.json:   0%|          | 0.00/159 [00:00<?, ?B/s]"
      ]
     },
     "metadata": {},
     "output_type": "display_data"
    },
    {
     "name": "stderr",
     "output_type": "stream",
     "text": [
      "e:\\Singaporean_English_ASR\\.venv\\lib\\site-packages\\huggingface_hub\\file_download.py:142: UserWarning: `huggingface_hub` cache-system uses symlinks by default to efficiently store duplicated files but your machine does not support them in C:\\Users\\mh\\.cache\\huggingface\\hub\\models--facebook--wav2vec2-base-960h. Caching files will still work but in a degraded version that might require more space on your disk. This warning can be disabled by setting the `HF_HUB_DISABLE_SYMLINKS_WARNING` environment variable. For more details, see https://huggingface.co/docs/huggingface_hub/how-to-cache#limitations.\n",
      "To support symlinks on Windows, you either need to activate Developer Mode or to run Python as an administrator. In order to activate developer mode, see this article: https://docs.microsoft.com/en-us/windows/apps/get-started/enable-your-device-for-development\n",
      "  warnings.warn(message)\n"
     ]
    },
    {
     "data": {
      "application/vnd.jupyter.widget-view+json": {
       "model_id": "3fdfddcd60454b0baae43c3011be165d",
       "version_major": 2,
       "version_minor": 0
      },
      "text/plain": [
       "tokenizer_config.json:   0%|          | 0.00/163 [00:00<?, ?B/s]"
      ]
     },
     "metadata": {},
     "output_type": "display_data"
    },
    {
     "data": {
      "application/vnd.jupyter.widget-view+json": {
       "model_id": "8d72e208eea84100ab69b7dc074fdb72",
       "version_major": 2,
       "version_minor": 0
      },
      "text/plain": [
       "config.json:   0%|          | 0.00/1.60k [00:00<?, ?B/s]"
      ]
     },
     "metadata": {},
     "output_type": "display_data"
    },
    {
     "data": {
      "application/vnd.jupyter.widget-view+json": {
       "model_id": "53766fa75cf245de95a3024c6abd63c4",
       "version_major": 2,
       "version_minor": 0
      },
      "text/plain": [
       "vocab.json:   0%|          | 0.00/291 [00:00<?, ?B/s]"
      ]
     },
     "metadata": {},
     "output_type": "display_data"
    },
    {
     "data": {
      "application/vnd.jupyter.widget-view+json": {
       "model_id": "b22ca4970f99438dbb916f8a68bfd059",
       "version_major": 2,
       "version_minor": 0
      },
      "text/plain": [
       "special_tokens_map.json:   0%|          | 0.00/85.0 [00:00<?, ?B/s]"
      ]
     },
     "metadata": {},
     "output_type": "display_data"
    },
    {
     "data": {
      "application/vnd.jupyter.widget-view+json": {
       "model_id": "95679a465e524f5f9c359ec7057f0d68",
       "version_major": 2,
       "version_minor": 0
      },
      "text/plain": [
       "model.safetensors:   0%|          | 0.00/378M [00:00<?, ?B/s]"
      ]
     },
     "metadata": {},
     "output_type": "display_data"
    },
    {
     "name": "stderr",
     "output_type": "stream",
     "text": [
      "Some weights of Wav2Vec2ForCTC were not initialized from the model checkpoint at facebook/wav2vec2-base-960h and are newly initialized: ['wav2vec2.masked_spec_embed']\n",
      "You should probably TRAIN this model on a down-stream task to be able to use it for predictions and inference.\n"
     ]
    }
   ],
   "source": [
    "# Load models and processors\n",
    "base_model_name = \"facebook/wav2vec2-base-960h\"\n",
    "base_processor = Wav2Vec2Processor.from_pretrained(base_model_name)\n",
    "base_model = Wav2Vec2ForCTC.from_pretrained(base_model_name)\n",
    "\n",
    "# Load fine-tuned model\n",
    "finetuned_model_dir = \"../output/models/wav2vec2/best_model\"\n",
    "finetuned_processor = Wav2Vec2Processor.from_pretrained(finetuned_model_dir)\n",
    "finetuned_model = Wav2Vec2ForCTC.from_pretrained(finetuned_model_dir)"
   ]
  },
  {
   "cell_type": "code",
   "execution_count": 10,
   "metadata": {},
   "outputs": [
    {
     "name": "stdout",
     "output_type": "stream",
     "text": [
      "Using device: cuda\n",
      "Evaluating base model...\n"
     ]
    },
    {
     "name": "stderr",
     "output_type": "stream",
     "text": [
      "Evaluating: 100%|██████████| 10/10 [00:06<00:00,  1.46it/s]\n"
     ]
    },
    {
     "name": "stdout",
     "output_type": "stream",
     "text": [
      "Evaluating fine-tuned model...\n"
     ]
    },
    {
     "name": "stderr",
     "output_type": "stream",
     "text": [
      "Evaluating: 100%|██████████| 10/10 [00:00<00:00, 30.05it/s]\n"
     ]
    }
   ],
   "source": [
    "# Set device\n",
    "device = torch.device(\"cuda\" if torch.cuda.is_available() else \"cpu\")\n",
    "print(f\"Using device: {device}\")\n",
    "\n",
    "# Evaluate both models\n",
    "print(\"Evaluating base model...\")\n",
    "base_results = evaluate_model(base_model, base_processor, test_dataset, device)\n",
    "\n",
    "print(\"Evaluating fine-tuned model...\")\n",
    "finetuned_results = evaluate_model(finetuned_model, finetuned_processor, test_dataset, device)\n"
   ]
  },
  {
   "cell_type": "code",
   "execution_count": 11,
   "metadata": {},
   "outputs": [
    {
     "name": "stdout",
     "output_type": "stream",
     "text": [
      "\n",
      "===== EVALUATION RESULTS =====\n",
      "Base Wav2Vec2 WER: 105.26%\n",
      "Fine-tuned Wav2Vec2 WER: 100.00%\n",
      "WER improvement: 5.26%\n",
      "\n",
      "Base Wav2Vec2 CER: 87.19%\n",
      "Fine-tuned Wav2Vec2 CER: 216.67%\n",
      "CER improvement: -129.48%\n",
      "\n",
      "Base model avg inference time: 0.1142s\n",
      "Fine-tuned model avg inference time: 0.0105s\n"
     ]
    }
   ],
   "source": [
    "# Print overall results\n",
    "print(\"\\n===== EVALUATION RESULTS =====\")\n",
    "print(f\"Base Wav2Vec2 WER: {base_results['wer']:.2f}%\")\n",
    "print(f\"Fine-tuned Wav2Vec2 WER: {finetuned_results['wer']:.2f}%\")\n",
    "print(f\"WER improvement: {base_results['wer'] - finetuned_results['wer']:.2f}%\")\n",
    "\n",
    "print(f\"\\nBase Wav2Vec2 CER: {base_results['cer']:.2f}%\")\n",
    "print(f\"Fine-tuned Wav2Vec2 CER: {finetuned_results['cer']:.2f}%\")\n",
    "print(f\"CER improvement: {base_results['cer'] - finetuned_results['cer']:.2f}%\")\n",
    "\n",
    "print(f\"\\nBase model avg inference time: {base_results['avg_inference_time']:.4f}s\")\n",
    "print(f\"Fine-tuned model avg inference time: {finetuned_results['avg_inference_time']:.4f}s\")"
   ]
  },
  {
   "cell_type": "code",
   "execution_count": 12,
   "metadata": {},
   "outputs": [],
   "source": [
    "# Create comparison of individual file performance\n",
    "base_wers = [item[\"wer\"] for item in base_results[\"detailed_results\"]]\n",
    "finetuned_wers = [item[\"wer\"] for item in finetuned_results[\"detailed_results\"]]\n",
    "audio_files = [item[\"audio_file\"] for item in base_results[\"detailed_results\"]]\n"
   ]
  },
  {
   "cell_type": "code",
   "execution_count": 13,
   "metadata": {},
   "outputs": [],
   "source": [
    "# Create and save a comparison table\n",
    "comparison_df = pd.DataFrame({\n",
    "    \"Audio File\": audio_files,\n",
    "    \"Base WER\": base_wers,\n",
    "    \"Fine-tuned WER\": finetuned_wers,\n",
    "    \"WER Improvement\": [b - f for b, f in zip(base_wers, finetuned_wers)],\n",
    "    \"Base Reference\": [item[\"reference\"] for item in base_results[\"detailed_results\"]],\n",
    "    \"Base Prediction\": [item[\"prediction\"] for item in base_results[\"detailed_results\"]],\n",
    "    \"Fine-tuned Prediction\": [item[\"prediction\"] for item in finetuned_results[\"detailed_results\"]]\n",
    "})"
   ]
  },
  {
   "cell_type": "code",
   "execution_count": 14,
   "metadata": {},
   "outputs": [
    {
     "name": "stdout",
     "output_type": "stream",
     "text": [
      "Detailed comparison saved to ../output/evaluations/wav2vec2/wav2vec2_comparison.csv\n"
     ]
    }
   ],
   "source": [
    "# Save to CSV\n",
    "os.makedirs(\"../output/evaluations/wav2vec2\", exist_ok=True)\n",
    "comparison_df.to_csv(\"../output/evaluations/wav2vec2/wav2vec2_comparison.csv\", index=False)\n",
    "print(f\"Detailed comparison saved to ../output/evaluations/wav2vec2/wav2vec2_comparison.csv\")"
   ]
  },
  {
   "cell_type": "code",
   "execution_count": 15,
   "metadata": {},
   "outputs": [
    {
     "data": {
      "image/png": "[encoded data removed]",
      "text/plain": [
       "<Figure size 1000x600 with 1 Axes>"
      ]
     },
     "metadata": {},
     "output_type": "display_data"
    }
   ],
   "source": [
    " # Create visualizations\n",
    "plt.figure(figsize=(10, 6))\n",
    "plt.bar(['Base Model', 'Fine-tuned Model'], [base_results['wer'], finetuned_results['wer']], color=['blue', 'green'])\n",
    "plt.title('Word Error Rate Comparison')\n",
    "plt.ylabel('WER (%)')\n",
    "plt.savefig(\"../output/evaluations/wav2vec2/wer_comparison.png\")"
   ]
  },
  {
   "cell_type": "code",
   "execution_count": 16,
   "metadata": {},
   "outputs": [
    {
     "data": {
      "image/png": "[encoded data removed]",
      "text/plain": [
       "<Figure size 1500x1000 with 1 Axes>"
      ]
     },
     "metadata": {},
     "output_type": "display_data"
    }
   ],
   "source": [
    "# Compare individual audio file performance\n",
    "plt.figure(figsize=(15, 10))\n",
    "indices = range(len(audio_files))\n",
    "width = 0.35\n",
    "plt.bar(indices, base_wers, width, label='Base Model')\n",
    "plt.bar([i + width for i in indices], finetuned_wers, width, label='Fine-tuned Model')\n",
    "plt.xlabel('Audio Files')\n",
    "plt.ylabel('WER (%)')\n",
    "plt.title('WER Comparison by Audio File')\n",
    "plt.xticks([i + width/2 for i in indices], audio_files, rotation=90)\n",
    "plt.legend()\n",
    "plt.tight_layout()\n",
    "plt.savefig(\"../output/evaluations/wav2vec2/wer_by_file.png\")"
   ]
  },
  {
   "cell_type": "code",
   "execution_count": 17,
   "metadata": {},
   "outputs": [],
   "source": [
    "# Error analysis for failed cases\n",
    "# Find examples where fine-tuned model performed worse\n",
    "worse_cases = comparison_df[comparison_df[\"WER Improvement\"] < 0].sort_values(\"WER Improvement\")\n",
    "\n",
    "if len(worse_cases) > 0:\n",
    "    print(\"\\n===== CASES WHERE FINE-TUNED MODEL PERFORMED WORSE =====\")\n",
    "    for _, row in worse_cases.head(5).iterrows():\n",
    "        print(f\"\\nAudio: {row['Audio File']}\")\n",
    "        print(f\"Reference: {row['Base Reference']}\")\n",
    "        print(f\"Base model: {row['Base Prediction']} (WER: {row['Base WER']:.2f}%)\")\n",
    "        print(f\"Fine-tuned: {row['Fine-tuned Prediction']} (WER: {row['Fine-tuned WER']:.2f}%)\")\n",
    "        print(f\"WER change: {row['WER Improvement']:.2f}%\")\n",
    "    "
   ]
  },
  {
   "cell_type": "code",
   "execution_count": 18,
   "metadata": {},
   "outputs": [
    {
     "name": "stdout",
     "output_type": "stream",
     "text": [
      "\n",
      "===== CASES WHERE FINE-TUNED MODEL PERFORMED BETTER =====\n",
      "\n",
      "Audio: SP0566-CH00-SE00-RC213.flac\n",
      "Reference: set a stop-loss order of 50% for my current order.\n",
      "Base model: SET A STOP LOST ORDER OF FIFTY PER CENT FOR MY CURREN ORDER (WER: 130.00%)\n",
      "Fine-tuned: zyzyzyzyzyzyzvy’ywryzszyvwyhkyzyzyz[UNK]zyk’kyzzyzyfyzyzyt[UNK]z[UNK]yzy’zzwnzyzyzyzyzyzkyzy’zyzyz’xyzzyz (WER: 100.00%)\n",
      "WER change: 30.00%\n",
      "\n",
      "Audio: SP0681-CH00-SE00-RC095.flac\n",
      "Reference: most youths today think that their future is uncertain.\n",
      "Base model: MOST USED TO THEY THINK THAT THEIR FUTURE IS UNCERTAIN (WER: 111.11%)\n",
      "Fine-tuned: kzkzkzkzvzkvkzvkzk[UNK]vwzwkzkhkvw[UNK]yktfkzkkkvkztz[UNK]kzfzkzkzkz[UNK]kzkzkzkk’l[UNK]zkz5kgwz[UNK]kzkzkzkvokqkvkv (WER: 100.00%)\n",
      "WER change: 11.11%\n",
      "\n",
      "Audio: SP0681-CH00-SE00-RC397.flac\n",
      "Reference: it will improve your experience the more it knows you.\n",
      "Base model: IT WAY ALL IMPROVE YOUR EXPERIENCE THE MORE IT NOWS YOU (WER: 110.00%)\n",
      "Fine-tuned: zkwgkgkgzkgk[UNK]kvkvk5z5kzkzltz[UNK]yk[UNK]kxkzy[UNK]z[UNK]zyzvzk[UNK]yvkzykz’kzykzkz'’zklt[UNK][UNK]zvwazkzk'kok'koko'o (WER: 100.00%)\n",
      "WER change: 10.00%\n",
      "\n",
      "Audio: SP0402-CH00-SE00-RC209.flac\n",
      "Reference: regardless, as free parking on sunday and in general becomes increasingly endangered, so might our delicate social fabric.\n",
      "Base model: REGETLESS AS FREE PUCKING ON SUNDAY AND IN GENERAL BECOMES INCREASINGLY AND INJURED SO MIGHT OUR DELICATE SOCIAL FABRIC (WER: 105.56%)\n",
      "Fine-tuned: zozozozkvzyvzkyzkzkzkz5zzkykz[UNK]ydk’kykyshyvwk[UNK]zk[UNK]vwzyks[UNK]hy[UNK]ydzykukydkzyk’l[UNK]lkl’ykydzdk’kykz[UNK]ydkt’xkykykvap[UNK]z[UNK]dyk’z[UNK]z[UNK]yvy[UNK]zyz[UNK]y’kykyk[UNK]ya[UNK]ykykzd[UNK]z’k’[UNK]yz[UNK]ykv[UNK]z[UNK]kyzyzykzzvy[UNK]ykaz’yk’zw[UNK]ykzyk[UNK]ydk'yk[UNK]zykzk[UNK]h[UNK]ykyklt[UNK]yzkyktky’kxkzvzyk%[UNK]zny[UNK]zkzvzozvzkyzkz (WER: 100.00%)\n",
      "WER change: 5.56%\n"
     ]
    }
   ],
   "source": [
    "# Find examples where fine-tuned model performed much better\n",
    "better_cases = comparison_df[comparison_df[\"WER Improvement\"] > 0].sort_values(\"WER Improvement\", ascending=False)\n",
    "\n",
    "if len(better_cases) > 0:\n",
    "    print(\"\\n===== CASES WHERE FINE-TUNED MODEL PERFORMED BETTER =====\")\n",
    "    for _, row in better_cases.head(5).iterrows():\n",
    "        print(f\"\\nAudio: {row['Audio File']}\")\n",
    "        print(f\"Reference: {row['Base Reference']}\")\n",
    "        print(f\"Base model: {row['Base Prediction']} (WER: {row['Base WER']:.2f}%)\")\n",
    "        print(f\"Fine-tuned: {row['Fine-tuned Prediction']} (WER: {row['Fine-tuned WER']:.2f}%)\")\n",
    "        print(f\"WER change: {row['WER Improvement']:.2f}%\")"
   ]
  }
 ],
 "metadata": {
  "kernelspec": {
   "display_name": ".venv",
   "language": "python",
   "name": "python3"
  },
  "language_info": {
   "codemirror_mode": {
    "name": "ipython",
    "version": 3
   },
   "file_extension": ".py",
   "mimetype": "text/x-python",
   "name": "python",
   "nbconvert_exporter": "python",
   "pygments_lexer": "ipython3",
   "version": "3.10.11"
  },
  "orig_nbformat": 4
 },
 "nbformat": 4,
 "nbformat_minor": 2
}
