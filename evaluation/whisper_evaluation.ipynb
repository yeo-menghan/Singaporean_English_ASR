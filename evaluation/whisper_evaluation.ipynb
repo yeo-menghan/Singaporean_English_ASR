{
 "cells": [
  {
   "cell_type": "markdown",
   "metadata": {},
   "source": [
    "# Evaluation: Fine-Tuned vs Whisper-Base"
   ]
  },
  {
   "cell_type": "code",
   "execution_count": 1,
   "metadata": {},
   "outputs": [],
   "source": [
    "import torch\n",
    "import numpy as np\n",
    "from datasets import load_dataset, Audio\n",
    "from transformers import WhisperProcessor, WhisperForConditionalGeneration\n",
    "from peft import PeftModel\n",
    "import evaluate\n",
    "import pandas as pd\n",
    "import matplotlib.pyplot as plt\n",
    "import os\n",
    "import time\n",
    "from tqdm import tqdm"
   ]
  },
  {
   "cell_type": "code",
   "execution_count": 2,
   "metadata": {},
   "outputs": [
    {
     "data": {
      "application/vnd.jupyter.widget-view+json": {
       "model_id": "b33a77c5a0cf46d59af8c5bac1d24b8e",
       "version_major": 2,
       "version_minor": 0
      },
      "text/plain": [
       "Downloading builder script:   0%|          | 0.00/5.60k [00:00<?, ?B/s]"
      ]
     },
     "metadata": {},
     "output_type": "display_data"
    }
   ],
   "source": [
    "# Load WER metric\n",
    "wer_metric = evaluate.load(\"wer\")\n",
    "cer_metric = evaluate.load(\"cer\")"
   ]
  },
  {
   "cell_type": "code",
   "execution_count": 3,
   "metadata": {},
   "outputs": [],
   "source": [
    "def evaluate_model(model, processor, dataset, device=\"cuda\"):\n",
    "    \"\"\"Evaluate a model on a dataset and return metrics\"\"\"\n",
    "    model.to(device)\n",
    "    model.eval()\n",
    "    \n",
    "    all_references = []\n",
    "    all_predictions = []\n",
    "    all_audio_names = []\n",
    "    inference_times = []\n",
    "    \n",
    "    for sample in tqdm(dataset, desc=\"Evaluating\"):\n",
    "        # Get audio input\n",
    "        audio = sample[\"path\"]\n",
    "        reference = sample[\"text\"]\n",
    "        \n",
    "        # Get audio file name for analysis\n",
    "        if isinstance(audio, dict) and \"path\" in audio:\n",
    "            audio_name = os.path.basename(audio[\"path\"])\n",
    "        else:\n",
    "            audio_name = \"unknown\"\n",
    "        \n",
    "        # Process audio\n",
    "        input_features = processor(\n",
    "            audio[\"array\"], \n",
    "            sampling_rate=audio[\"sampling_rate\"],\n",
    "            return_tensors=\"pt\"\n",
    "        ).input_features.to(device)\n",
    "        \n",
    "        # Measure inference time\n",
    "        start_time = time.time()\n",
    "        with torch.no_grad():\n",
    "            generated_ids = model.generate(\n",
    "                input_features=input_features,\n",
    "                max_new_tokens=128,\n",
    "                num_beams=1  # Use greedy decoding for faster inference\n",
    "            )\n",
    "        end_time = time.time()\n",
    "        inference_time = end_time - start_time\n",
    "        \n",
    "        # Decode prediction\n",
    "        predicted_transcript = processor.batch_decode(\n",
    "            generated_ids, skip_special_tokens=True\n",
    "        )[0]\n",
    "        \n",
    "        # Store results\n",
    "        all_references.append(reference)\n",
    "        all_predictions.append(predicted_transcript)\n",
    "        all_audio_names.append(audio_name)\n",
    "        inference_times.append(inference_time)\n",
    "    \n",
    "    # Calculate metrics\n",
    "    wer = 100 * wer_metric.compute(predictions=all_predictions, references=all_references)\n",
    "    cer = 100 * cer_metric.compute(predictions=all_predictions, references=all_references)\n",
    "    \n",
    "    avg_inference_time = sum(inference_times) / len(inference_times)\n",
    "    \n",
    "    # Create detailed results for error analysis\n",
    "    detailed_results = []\n",
    "    for ref, pred, name, inf_time in zip(all_references, all_predictions, all_audio_names, inference_times):\n",
    "        sample_wer = 100 * wer_metric.compute(predictions=[pred], references=[ref])\n",
    "        detailed_results.append({\n",
    "            \"audio_file\": name,\n",
    "            \"reference\": ref,\n",
    "            \"prediction\": pred,\n",
    "            \"wer\": sample_wer,\n",
    "            \"inference_time\": inf_time\n",
    "        })\n",
    "    \n",
    "    results = {\n",
    "        \"wer\": wer,\n",
    "        \"cer\": cer,\n",
    "        \"avg_inference_time\": avg_inference_time,\n",
    "        \"detailed_results\": detailed_results\n",
    "    }\n",
    "    \n",
    "    return results"
   ]
  },
  {
   "cell_type": "code",
   "execution_count": 5,
   "metadata": {},
   "outputs": [],
   "source": [
    "# Load the test dataset\n",
    "data_dir = os.path.abspath(os.path.join(\"..\", \"data\", \"processed\"))\n",
    "test_dataset = load_dataset(\"csv\", data_files=os.path.join(data_dir, \"test_data.csv\"))[\"train\"]"
   ]
  },
  {
   "cell_type": "code",
   "execution_count": 6,
   "metadata": {},
   "outputs": [
    {
     "data": {
      "application/vnd.jupyter.widget-view+json": {
       "model_id": "12b14eb5198148a19b8794e85999fd87",
       "version_major": 2,
       "version_minor": 0
      },
      "text/plain": [
       "Map:   0%|          | 0/10 [00:00<?, ? examples/s]"
      ]
     },
     "metadata": {},
     "output_type": "display_data"
    }
   ],
   "source": [
    "# Function to correct the file paths\n",
    "def correct_path(example):\n",
    "    current_path = example[\"path\"].replace(\"\\\\\", \"/\")\n",
    "    if \"../processed\" in current_path:\n",
    "        new_path = current_path.replace(\"../processed\", \"../data/processed\")\n",
    "    else:\n",
    "        new_path = current_path\n",
    "    example[\"path\"] = new_path\n",
    "    return example\n",
    "\n",
    "# Apply the path correction\n",
    "test_dataset = test_dataset.map(correct_path)\n",
    "\n",
    "# Cast to Audio\n",
    "test_dataset = test_dataset.cast_column(\"path\", Audio(sampling_rate=16000))"
   ]
  },
  {
   "cell_type": "code",
   "execution_count": 7,
   "metadata": {},
   "outputs": [],
   "source": [
    "# Load models and processors\n",
    "base_model_name = \"openai/whisper-base\"\n",
    "base_processor = WhisperProcessor.from_pretrained(base_model_name, language=\"English\", task=\"transcribe\")\n",
    "base_model = WhisperForConditionalGeneration.from_pretrained(base_model_name)"
   ]
  },
  {
   "cell_type": "code",
   "execution_count": 9,
   "metadata": {},
   "outputs": [],
   "source": [
    "# Load fine-tuned model\n",
    "finetuned_model_dir = \"../output/models/whisper/best_model\"  \n",
    "finetuned_processor = WhisperProcessor.from_pretrained(base_model_name, language=\"English\", task=\"transcribe\")\n",
    "\n",
    "# If you're using PEFT/LoRA\n",
    "finetuned_model = WhisperForConditionalGeneration.from_pretrained(base_model_name)\n",
    "finetuned_model = PeftModel.from_pretrained(finetuned_model, finetuned_model_dir)\n",
    "\n",
    "# Use merge_and_unload to get a single model (optional but can improve inference speed)\n",
    "finetuned_model = finetuned_model.merge_and_unload()"
   ]
  },
  {
   "cell_type": "code",
   "execution_count": 10,
   "metadata": {},
   "outputs": [
    {
     "name": "stdout",
     "output_type": "stream",
     "text": [
      "Using device: cuda\n"
     ]
    }
   ],
   "source": [
    "# Set device\n",
    "device = torch.device(\"cuda\" if torch.cuda.is_available() else \"cpu\")\n",
    "print(f\"Using device: {device}\")"
   ]
  },
  {
   "cell_type": "code",
   "execution_count": 11,
   "metadata": {},
   "outputs": [
    {
     "name": "stdout",
     "output_type": "stream",
     "text": [
      "Evaluating base model...\n"
     ]
    },
    {
     "name": "stderr",
     "output_type": "stream",
     "text": [
      "Evaluating:   0%|          | 0/10 [00:00<?, ?it/s]Due to a bug fix in https://github.com/huggingface/transformers/pull/28687 transcription using a multilingual Whisper will default to language detection followed by transcription instead of translation to English.This might be a breaking change for your use case. If you want to instead always translate your audio to English, make sure to pass `language='en'`.\n",
      "The attention mask is not set and cannot be inferred from input because pad token is same as eos token. As a consequence, you may observe unexpected behavior. Please pass your input's `attention_mask` to obtain reliable results.\n",
      "Evaluating: 100%|██████████| 10/10 [00:06<00:00,  1.43it/s]\n"
     ]
    },
    {
     "name": "stdout",
     "output_type": "stream",
     "text": [
      "Evaluating fine-tuned model...\n"
     ]
    },
    {
     "name": "stderr",
     "output_type": "stream",
     "text": [
      "Evaluating: 100%|██████████| 10/10 [00:01<00:00,  5.17it/s]\n"
     ]
    }
   ],
   "source": [
    "# Evaluate both models\n",
    "print(\"Evaluating base model...\")\n",
    "base_results = evaluate_model(base_model, base_processor, test_dataset, device)\n",
    "\n",
    "print(\"Evaluating fine-tuned model...\")\n",
    "finetuned_results = evaluate_model(finetuned_model, finetuned_processor, test_dataset, device)"
   ]
  },
  {
   "cell_type": "code",
   "execution_count": 12,
   "metadata": {},
   "outputs": [
    {
     "name": "stdout",
     "output_type": "stream",
     "text": [
      "\n",
      "===== EVALUATION RESULTS =====\n",
      "Base Whisper WER: 122.81%\n",
      "Fine-tuned Whisper WER: 21.05%\n",
      "WER improvement: 101.75%\n",
      "\n",
      "Base Whisper CER: 123.61%\n",
      "Fine-tuned Whisper CER: 6.94%\n",
      "CER improvement: 116.67%\n",
      "\n",
      "Base model avg inference time: 0.4230s\n",
      "Fine-tuned model avg inference time: 0.1755s\n"
     ]
    }
   ],
   "source": [
    "# Print overall results\n",
    "print(\"\\n===== EVALUATION RESULTS =====\")\n",
    "print(f\"Base Whisper WER: {base_results['wer']:.2f}%\")\n",
    "print(f\"Fine-tuned Whisper WER: {finetuned_results['wer']:.2f}%\")\n",
    "print(f\"WER improvement: {base_results['wer'] - finetuned_results['wer']:.2f}%\")\n",
    "\n",
    "print(f\"\\nBase Whisper CER: {base_results['cer']:.2f}%\")\n",
    "print(f\"Fine-tuned Whisper CER: {finetuned_results['cer']:.2f}%\")\n",
    "print(f\"CER improvement: {base_results['cer'] - finetuned_results['cer']:.2f}%\")\n",
    "\n",
    "print(f\"\\nBase model avg inference time: {base_results['avg_inference_time']:.4f}s\")\n",
    "print(f\"Fine-tuned model avg inference time: {finetuned_results['avg_inference_time']:.4f}s\")"
   ]
  },
  {
   "cell_type": "code",
   "execution_count": 13,
   "metadata": {},
   "outputs": [],
   "source": [
    "# Create comparison of individual file performance\n",
    "base_wers = [item[\"wer\"] for item in base_results[\"detailed_results\"]]\n",
    "finetuned_wers = [item[\"wer\"] for item in finetuned_results[\"detailed_results\"]]\n",
    "audio_files = [item[\"audio_file\"] for item in base_results[\"detailed_results\"]]"
   ]
  },
  {
   "cell_type": "code",
   "execution_count": 14,
   "metadata": {},
   "outputs": [],
   "source": [
    "# Create and save a comparison table\n",
    "comparison_df = pd.DataFrame({\n",
    "    \"Audio File\": audio_files,\n",
    "    \"Base WER\": base_wers,\n",
    "    \"Fine-tuned WER\": finetuned_wers,\n",
    "    \"WER Improvement\": [b - f for b, f in zip(base_wers, finetuned_wers)],\n",
    "    \"Base Reference\": [item[\"reference\"] for item in base_results[\"detailed_results\"]],\n",
    "    \"Base Prediction\": [item[\"prediction\"] for item in base_results[\"detailed_results\"]],\n",
    "    \"Fine-tuned Prediction\": [item[\"prediction\"] for item in finetuned_results[\"detailed_results\"]]\n",
    "})"
   ]
  },
  {
   "cell_type": "code",
   "execution_count": 16,
   "metadata": {},
   "outputs": [
    {
     "name": "stdout",
     "output_type": "stream",
     "text": [
      "Detailed comparison saved to ../output/evaluations/whisper_comparison.csv\n"
     ]
    }
   ],
   "source": [
    "# Save to CSV\n",
    "os.makedirs(\"../output/evaluations\", exist_ok=True)\n",
    "comparison_df.to_csv(\"../output/evaluations/whisper_comparison.csv\", index=False)\n",
    "print(f\"Detailed comparison saved to ../output/evaluations/whisper_comparison.csv\")"
   ]
  },
  {
   "cell_type": "code",
   "execution_count": 18,
   "metadata": {},
   "outputs": [
    {
     "data": {
      "image/png": "[encoded data removed]",
      "text/plain": [
       "<Figure size 1000x600 with 1 Axes>"
      ]
     },
     "metadata": {},
     "output_type": "display_data"
    }
   ],
   "source": [
    "# Create visualizations\n",
    "plt.figure(figsize=(10, 6))\n",
    "plt.bar(['Base Model', 'Fine-tuned Model'], [base_results['wer'], finetuned_results['wer']], color=['blue', 'green'])\n",
    "plt.title('Word Error Rate Comparison')\n",
    "plt.ylabel('WER (%)')\n",
    "plt.savefig(\"../output/evaluations/wer_comparison.png\")"
   ]
  },
  {
   "cell_type": "code",
   "execution_count": 19,
   "metadata": {},
   "outputs": [
    {
     "data": {
      "image/png": "[encoded data removed]",
      "text/plain": [
       "<Figure size 1500x1000 with 1 Axes>"
      ]
     },
     "metadata": {},
     "output_type": "display_data"
    }
   ],
   "source": [
    "# Compare individual audio file performance\n",
    "plt.figure(figsize=(15, 10))\n",
    "indices = range(len(audio_files))\n",
    "width = 0.35\n",
    "plt.bar(indices, base_wers, width, label='Base Model')\n",
    "plt.bar([i + width for i in indices], finetuned_wers, width, label='Fine-tuned Model')\n",
    "plt.xlabel('Audio Files')\n",
    "plt.ylabel('WER (%)')\n",
    "plt.title('WER Comparison by Audio File')\n",
    "plt.xticks([i + width/2 for i in indices], audio_files, rotation=90)\n",
    "plt.legend()\n",
    "plt.tight_layout()\n",
    "plt.savefig(\"../output/evaluations/wer_by_file.png\")"
   ]
  },
  {
   "cell_type": "code",
   "execution_count": 20,
   "metadata": {},
   "outputs": [
    {
     "name": "stdout",
     "output_type": "stream",
     "text": [
      "\n",
      "===== CASES WHERE FINE-TUNED MODEL PERFORMED WORSE =====\n",
      "\n",
      "Audio: SP0873-CH00-SE01-RC401.flac\n",
      "Reference: a smile can often lift up a weary spirit.\n",
      "Base model:  A small can of them lift up a weary spirit. (WER: 44.44%)\n",
      "Fine-tuned: a small can of them lived up at a weird spirit (WER: 77.78%)\n",
      "WER change: -33.33%\n",
      "\n",
      "Audio: SP0873-CH00-SE01-RC451.flac\n",
      "Reference: the shop keeps its costs low by buying its supplies in bulk.\n",
      "Base model:  The shop keeps its cost low by buying its supplies in bulk. (WER: 16.67%)\n",
      "Fine-tuned: the shop keeps its cause low buy buying it supplies in bulk (WER: 33.33%)\n",
      "WER change: -16.67%\n"
     ]
    }
   ],
   "source": [
    "# Error analysis for failed cases\n",
    "# Find examples where fine-tuned model performed worse\n",
    "worse_cases = comparison_df[comparison_df[\"WER Improvement\"] < 0].sort_values(\"WER Improvement\")\n",
    "\n",
    "if len(worse_cases) > 0:\n",
    "    print(\"\\n===== CASES WHERE FINE-TUNED MODEL PERFORMED WORSE =====\")\n",
    "    for _, row in worse_cases.head(5).iterrows():\n",
    "        print(f\"\\nAudio: {row['Audio File']}\")\n",
    "        print(f\"Reference: {row['Base Reference']}\")\n",
    "        print(f\"Base model: {row['Base Prediction']} (WER: {row['Base WER']:.2f}%)\")\n",
    "        print(f\"Fine-tuned: {row['Fine-tuned Prediction']} (WER: {row['Fine-tuned WER']:.2f}%)\")\n",
    "        print(f\"WER change: {row['WER Improvement']:.2f}%\")"
   ]
  },
  {
   "cell_type": "code",
   "execution_count": 21,
   "metadata": {},
   "outputs": [
    {
     "name": "stdout",
     "output_type": "stream",
     "text": [
      "\n",
      "===== CASES WHERE FINE-TUNED MODEL PERFORMED BETTER =====\n",
      "\n",
      "Audio: SP0681-CH00-SE00-RC095.flac\n",
      "Reference: most youths today think that their future is uncertain.\n",
      "Base model:  Mestk menggunakan hari ini fikir kata-kata mereka akan menggunakan sebuah sebuah sebuah sebuah sebuah sebuah sebuah sebuah sebuah sebuah sebuah sebuah sebuah sebuah sebuah sebuah sebuah sebuah sebuah sebuah sebuah sebuah sebuah sebuah sebuah sebuah sebuah sebuah sebuah sebuah sebuah sebuah sebuah sebuah sebuah sebuah (WER: 500.00%)\n",
      "Fine-tuned: most used today think that their future is uncertain (WER: 22.22%)\n",
      "WER change: 477.78%\n",
      "\n",
      "Audio: SP0835-CH00-SE00-RC397.flac\n",
      "Reference: many countries require a passport to be valid for at least six months as part of their entry requirements.\n",
      "Base model:  Mereka perlukan perlukan perlukan perlukan perlukan perlukan perlukan perlukan perlukan perlukan perlukan perlukan perlukan perlukan perlukan perlukan perlukan perlukan perlukan perlukan perlukan perlukan perlukan perlukan perlukan perlukan perlukan perlukan perlukan perlukan perlukan perlukan perlukan perlukan perlukan perlukan perlukan perlukan perlukan perlukan perlukan perl (WER: 226.32%)\n",
      "Fine-tuned: many countries require a passport to be valid for at least 6 months as part of their entry requirements. (WER: 5.26%)\n",
      "WER change: 221.05%\n",
      "\n",
      "Audio: SP0402-CH00-SE00-RC209.flac\n",
      "Reference: regardless, as free parking on sunday and in general becomes increasingly endangered, so might our delicate social fabric.\n",
      "Base model:  Kita berguna dengan kawasan yang berguna dan di general berguna, terlalu berguna dan berguna, jadi mungkin kita berguna di sosial fabrik. (WER: 111.11%)\n",
      "Fine-tuned: we getless as free parking on sunday and in general becomes increasingly endangered so might our delicate social fabric. (WER: 16.67%)\n",
      "WER change: 94.44%\n",
      "\n",
      "Audio: SP0566-CH00-SE00-RC213.flac\n",
      "Reference: set a stop-loss order of 50% for my current order.\n",
      "Base model:  Setahun penyelaskan 50% untuk penyelaskan saya. (WER: 90.00%)\n",
      "Fine-tuned: set a stop loss order of 50% for my current order. (WER: 20.00%)\n",
      "WER change: 70.00%\n",
      "\n",
      "Audio: SP0873-CH00-SE01-RC755.flac\n",
      "Reference: trading halt has turned into a suspension pending the release of an announcement.\n",
      "Base model:  Trading halt hasterin ke dalam penjagaan penjagaan, perlukan perlukan dan perlukan. (WER: 92.31%)\n",
      "Fine-tuned: training halt has turned into a suspension bending the release of an announcement (WER: 23.08%)\n",
      "WER change: 69.23%\n"
     ]
    }
   ],
   "source": [
    "# Find examples where fine-tuned model performed much better\n",
    "better_cases = comparison_df[comparison_df[\"WER Improvement\"] > 0].sort_values(\"WER Improvement\", ascending=False)\n",
    "\n",
    "if len(better_cases) > 0:\n",
    "    print(\"\\n===== CASES WHERE FINE-TUNED MODEL PERFORMED BETTER =====\")\n",
    "    for _, row in better_cases.head(5).iterrows():\n",
    "        print(f\"\\nAudio: {row['Audio File']}\")\n",
    "        print(f\"Reference: {row['Base Reference']}\")\n",
    "        print(f\"Base model: {row['Base Prediction']} (WER: {row['Base WER']:.2f}%)\")\n",
    "        print(f\"Fine-tuned: {row['Fine-tuned Prediction']} (WER: {row['Fine-tuned WER']:.2f}%)\")\n",
    "        print(f\"WER change: {row['WER Improvement']:.2f}%\")"
   ]
  }
 ],
 "metadata": {
  "kernelspec": {
   "display_name": ".venv",
   "language": "python",
   "name": "python3"
  },
  "language_info": {
   "codemirror_mode": {
    "name": "ipython",
    "version": 3
   },
   "file_extension": ".py",
   "mimetype": "text/x-python",
   "name": "python",
   "nbconvert_exporter": "python",
   "pygments_lexer": "ipython3",
   "version": "3.10.11"
  },
  "orig_nbformat": 4
 },
 "nbformat": 4,
 "nbformat_minor": 2
}
